{
  "nbformat": 4,
  "nbformat_minor": 0,
  "metadata": {
    "colab": {
      "name": "HDAGFellowship.ipynb",
      "provenance": [],
      "collapsed_sections": [],
      "include_colab_link": true
    },
    "kernelspec": {
      "name": "python3",
      "display_name": "Python 3"
    },
    "language_info": {
      "name": "python"
    }
  },
  "cells": [
    {
      "cell_type": "markdown",
      "metadata": {
        "id": "view-in-github",
        "colab_type": "text"
      },
      "source": [
        "<a href=\"https://colab.research.google.com/github/nlei1/hdag-project/blob/main/HDAGFellowship.ipynb\" target=\"_parent\"><img src=\"https://colab.research.google.com/assets/colab-badge.svg\" alt=\"Open In Colab\"/></a>"
      ]
    },
    {
      "cell_type": "markdown",
      "metadata": {
        "id": "LLEGKAqO4YJV"
      },
      "source": [
        "# **Setup**"
      ]
    },
    {
      "cell_type": "code",
      "metadata": {
        "colab": {
          "base_uri": "https://localhost:8080/"
        },
        "id": "PWBFO_Rby1nr",
        "outputId": "127817f1-3cd4-44fe-f79c-513bf4789d4a"
      },
      "source": [
        "from google.colab import drive\n",
        "drive.mount('/content/drive')"
      ],
      "execution_count": null,
      "outputs": [
        {
          "output_type": "stream",
          "text": [
            "Drive already mounted at /content/drive; to attempt to forcibly remount, call drive.mount(\"/content/drive\", force_remount=True).\n"
          ],
          "name": "stdout"
        }
      ]
    },
    {
      "cell_type": "code",
      "metadata": {
        "id": "uvG3DhPdR8Qr",
        "colab": {
          "base_uri": "https://localhost:8080/"
        },
        "outputId": "7a62769e-d450-4a04-a6c9-35360aae7fe6"
      },
      "source": [
        "import pandas as pd\n",
        "import matplotlib.pyplot as plt\n",
        "import seaborn as sns\n",
        "url = 'https://raw.githubusercontent.com/nlei1/hdag-project/main/tmpnw4b6msk.csv'\n",
        "df = pd.read_csv(url)\n",
        "from shapely.geometry import Point\n",
        "!pip install geopandas\n",
        "import geopandas as gpd\n",
        "# map = pd.read_csv(\"Boston_Neighborhoods.csv\")"
      ],
      "execution_count": null,
      "outputs": [
        {
          "output_type": "stream",
          "text": [
            "Collecting geopandas\n",
            "  Downloading geopandas-0.9.0-py2.py3-none-any.whl (994 kB)\n",
            "\u001b[K     |████████████████████████████████| 994 kB 5.0 MB/s \n",
            "\u001b[?25hCollecting pyproj>=2.2.0\n",
            "  Downloading pyproj-3.1.0-cp37-cp37m-manylinux2010_x86_64.whl (6.6 MB)\n",
            "\u001b[K     |████████████████████████████████| 6.6 MB 10.7 MB/s \n",
            "\u001b[?25hCollecting fiona>=1.8\n",
            "  Downloading Fiona-1.8.20-cp37-cp37m-manylinux1_x86_64.whl (15.4 MB)\n",
            "\u001b[K     |████████████████████████████████| 15.4 MB 35 kB/s \n",
            "\u001b[?25hRequirement already satisfied: pandas>=0.24.0 in /usr/local/lib/python3.7/dist-packages (from geopandas) (1.1.5)\n",
            "Requirement already satisfied: shapely>=1.6 in /usr/local/lib/python3.7/dist-packages (from geopandas) (1.7.1)\n",
            "Requirement already satisfied: six>=1.7 in /usr/local/lib/python3.7/dist-packages (from fiona>=1.8->geopandas) (1.15.0)\n",
            "Requirement already satisfied: setuptools in /usr/local/lib/python3.7/dist-packages (from fiona>=1.8->geopandas) (57.2.0)\n",
            "Collecting cligj>=0.5\n",
            "  Downloading cligj-0.7.2-py3-none-any.whl (7.1 kB)\n",
            "Requirement already satisfied: attrs>=17 in /usr/local/lib/python3.7/dist-packages (from fiona>=1.8->geopandas) (21.2.0)\n",
            "Requirement already satisfied: click>=4.0 in /usr/local/lib/python3.7/dist-packages (from fiona>=1.8->geopandas) (7.1.2)\n",
            "Collecting click-plugins>=1.0\n",
            "  Downloading click_plugins-1.1.1-py2.py3-none-any.whl (7.5 kB)\n",
            "Requirement already satisfied: certifi in /usr/local/lib/python3.7/dist-packages (from fiona>=1.8->geopandas) (2021.5.30)\n",
            "Collecting munch\n",
            "  Downloading munch-2.5.0-py2.py3-none-any.whl (10 kB)\n",
            "Requirement already satisfied: numpy>=1.15.4 in /usr/local/lib/python3.7/dist-packages (from pandas>=0.24.0->geopandas) (1.19.5)\n",
            "Requirement already satisfied: python-dateutil>=2.7.3 in /usr/local/lib/python3.7/dist-packages (from pandas>=0.24.0->geopandas) (2.8.1)\n",
            "Requirement already satisfied: pytz>=2017.2 in /usr/local/lib/python3.7/dist-packages (from pandas>=0.24.0->geopandas) (2018.9)\n",
            "Installing collected packages: munch, cligj, click-plugins, pyproj, fiona, geopandas\n",
            "Successfully installed click-plugins-1.1.1 cligj-0.7.2 fiona-1.8.20 geopandas-0.9.0 munch-2.5.0 pyproj-3.1.0\n"
          ],
          "name": "stdout"
        }
      ]
    },
    {
      "cell_type": "code",
      "metadata": {
        "id": "FaAWoqkuX1T9",
        "colab": {
          "base_uri": "https://localhost:8080/",
          "height": 204
        },
        "outputId": "376a3865-8a5d-4a5c-82b4-d903e1106a49"
      },
      "source": [
        "df.head()"
      ],
      "execution_count": null,
      "outputs": [
        {
          "output_type": "execute_result",
          "data": {
            "text/html": [
              "<div>\n",
              "<style scoped>\n",
              "    .dataframe tbody tr th:only-of-type {\n",
              "        vertical-align: middle;\n",
              "    }\n",
              "\n",
              "    .dataframe tbody tr th {\n",
              "        vertical-align: top;\n",
              "    }\n",
              "\n",
              "    .dataframe thead th {\n",
              "        text-align: right;\n",
              "    }\n",
              "</style>\n",
              "<table border=\"1\" class=\"dataframe\">\n",
              "  <thead>\n",
              "    <tr style=\"text-align: right;\">\n",
              "      <th></th>\n",
              "      <th>dispatch_ts</th>\n",
              "      <th>mode_type</th>\n",
              "      <th>location_type</th>\n",
              "      <th>street</th>\n",
              "      <th>xstreet1</th>\n",
              "      <th>xstreet2</th>\n",
              "      <th>x_cord</th>\n",
              "      <th>y_cord</th>\n",
              "      <th>lat</th>\n",
              "      <th>long</th>\n",
              "    </tr>\n",
              "  </thead>\n",
              "  <tbody>\n",
              "    <tr>\n",
              "      <th>0</th>\n",
              "      <td>2015-01-01 00:24:27+00</td>\n",
              "      <td>mv</td>\n",
              "      <td>Intersection</td>\n",
              "      <td>NaN</td>\n",
              "      <td>TRAIN ST</td>\n",
              "      <td>WESTGLOW ST</td>\n",
              "      <td>777243.68</td>\n",
              "      <td>2930930.11</td>\n",
              "      <td>42.289750</td>\n",
              "      <td>-71.052515</td>\n",
              "    </tr>\n",
              "    <tr>\n",
              "      <th>1</th>\n",
              "      <td>2015-01-01 03:50:33+00</td>\n",
              "      <td>mv</td>\n",
              "      <td>Street</td>\n",
              "      <td>RIVER ST</td>\n",
              "      <td>WALTER ST</td>\n",
              "      <td>WINTHROP ST</td>\n",
              "      <td>758927.71</td>\n",
              "      <td>2918981.60</td>\n",
              "      <td>42.257079</td>\n",
              "      <td>-71.120105</td>\n",
              "    </tr>\n",
              "    <tr>\n",
              "      <th>2</th>\n",
              "      <td>2015-01-01 10:14:13+00</td>\n",
              "      <td>ped</td>\n",
              "      <td>Intersection</td>\n",
              "      <td>NaN</td>\n",
              "      <td>LONDON ST</td>\n",
              "      <td>MERIDIAN ST</td>\n",
              "      <td>780725.19</td>\n",
              "      <td>2961410.17</td>\n",
              "      <td>42.373337</td>\n",
              "      <td>-71.039040</td>\n",
              "    </tr>\n",
              "    <tr>\n",
              "      <th>3</th>\n",
              "      <td>2015-01-01 18:23:57+00</td>\n",
              "      <td>bike</td>\n",
              "      <td>Intersection</td>\n",
              "      <td>NaN</td>\n",
              "      <td>OLNEY ST</td>\n",
              "      <td>INWOOD ST</td>\n",
              "      <td>772710.48</td>\n",
              "      <td>2936614.62</td>\n",
              "      <td>42.305413</td>\n",
              "      <td>-71.069163</td>\n",
              "    </tr>\n",
              "    <tr>\n",
              "      <th>4</th>\n",
              "      <td>2015-01-01 18:42:19+00</td>\n",
              "      <td>ped</td>\n",
              "      <td>Intersection</td>\n",
              "      <td>NaN</td>\n",
              "      <td>WASHINGTON ST</td>\n",
              "      <td>COLUMBUS AVE</td>\n",
              "      <td>764813.61</td>\n",
              "      <td>2940364.63</td>\n",
              "      <td>42.315809</td>\n",
              "      <td>-71.098290</td>\n",
              "    </tr>\n",
              "  </tbody>\n",
              "</table>\n",
              "</div>"
            ],
            "text/plain": [
              "              dispatch_ts mode_type  ...        lat       long\n",
              "0  2015-01-01 00:24:27+00        mv  ...  42.289750 -71.052515\n",
              "1  2015-01-01 03:50:33+00        mv  ...  42.257079 -71.120105\n",
              "2  2015-01-01 10:14:13+00       ped  ...  42.373337 -71.039040\n",
              "3  2015-01-01 18:23:57+00      bike  ...  42.305413 -71.069163\n",
              "4  2015-01-01 18:42:19+00       ped  ...  42.315809 -71.098290\n",
              "\n",
              "[5 rows x 10 columns]"
            ]
          },
          "metadata": {
            "tags": []
          },
          "execution_count": 12
        }
      ]
    },
    {
      "cell_type": "code",
      "metadata": {
        "colab": {
          "base_uri": "https://localhost:8080/",
          "height": 626
        },
        "id": "0CgZfiBT8j7_",
        "outputId": "f187dead-befc-47bb-9536-92d1576fc997"
      },
      "source": [
        "df['dispatch_ts'] = pd.to_datetime(df['dispatch_ts'])\n",
        "df['dates'] = df['dispatch_ts'].dt.date\n",
        "df['times'] = df['dispatch_ts'].dt.time\n",
        "df['year'] = df['dispatch_ts'].dt.year\n",
        "df['month'] = df['dispatch_ts'].dt.month\n",
        "df['day'] = df['dispatch_ts'].dt.day\n",
        "df['day_of_wk'] = df['dispatch_ts'].dt.day_name()\n",
        "df"
      ],
      "execution_count": null,
      "outputs": [
        {
          "output_type": "execute_result",
          "data": {
            "text/html": [
              "<div>\n",
              "<style scoped>\n",
              "    .dataframe tbody tr th:only-of-type {\n",
              "        vertical-align: middle;\n",
              "    }\n",
              "\n",
              "    .dataframe tbody tr th {\n",
              "        vertical-align: top;\n",
              "    }\n",
              "\n",
              "    .dataframe thead th {\n",
              "        text-align: right;\n",
              "    }\n",
              "</style>\n",
              "<table border=\"1\" class=\"dataframe\">\n",
              "  <thead>\n",
              "    <tr style=\"text-align: right;\">\n",
              "      <th></th>\n",
              "      <th>dispatch_ts</th>\n",
              "      <th>mode_type</th>\n",
              "      <th>location_type</th>\n",
              "      <th>street</th>\n",
              "      <th>xstreet1</th>\n",
              "      <th>xstreet2</th>\n",
              "      <th>x_cord</th>\n",
              "      <th>y_cord</th>\n",
              "      <th>lat</th>\n",
              "      <th>long</th>\n",
              "      <th>dates</th>\n",
              "      <th>times</th>\n",
              "      <th>year</th>\n",
              "      <th>month</th>\n",
              "      <th>day</th>\n",
              "      <th>day_of_wk</th>\n",
              "    </tr>\n",
              "  </thead>\n",
              "  <tbody>\n",
              "    <tr>\n",
              "      <th>0</th>\n",
              "      <td>2015-01-01 00:24:27+00:00</td>\n",
              "      <td>mv</td>\n",
              "      <td>Intersection</td>\n",
              "      <td>NaN</td>\n",
              "      <td>TRAIN ST</td>\n",
              "      <td>WESTGLOW ST</td>\n",
              "      <td>777243.68</td>\n",
              "      <td>2930930.11</td>\n",
              "      <td>42.289750</td>\n",
              "      <td>-71.052515</td>\n",
              "      <td>2015-01-01</td>\n",
              "      <td>00:24:27</td>\n",
              "      <td>2015</td>\n",
              "      <td>1</td>\n",
              "      <td>1</td>\n",
              "      <td>Thursday</td>\n",
              "    </tr>\n",
              "    <tr>\n",
              "      <th>1</th>\n",
              "      <td>2015-01-01 03:50:33+00:00</td>\n",
              "      <td>mv</td>\n",
              "      <td>Street</td>\n",
              "      <td>RIVER ST</td>\n",
              "      <td>WALTER ST</td>\n",
              "      <td>WINTHROP ST</td>\n",
              "      <td>758927.71</td>\n",
              "      <td>2918981.60</td>\n",
              "      <td>42.257079</td>\n",
              "      <td>-71.120105</td>\n",
              "      <td>2015-01-01</td>\n",
              "      <td>03:50:33</td>\n",
              "      <td>2015</td>\n",
              "      <td>1</td>\n",
              "      <td>1</td>\n",
              "      <td>Thursday</td>\n",
              "    </tr>\n",
              "    <tr>\n",
              "      <th>2</th>\n",
              "      <td>2015-01-01 10:14:13+00:00</td>\n",
              "      <td>ped</td>\n",
              "      <td>Intersection</td>\n",
              "      <td>NaN</td>\n",
              "      <td>LONDON ST</td>\n",
              "      <td>MERIDIAN ST</td>\n",
              "      <td>780725.19</td>\n",
              "      <td>2961410.17</td>\n",
              "      <td>42.373337</td>\n",
              "      <td>-71.039040</td>\n",
              "      <td>2015-01-01</td>\n",
              "      <td>10:14:13</td>\n",
              "      <td>2015</td>\n",
              "      <td>1</td>\n",
              "      <td>1</td>\n",
              "      <td>Thursday</td>\n",
              "    </tr>\n",
              "    <tr>\n",
              "      <th>3</th>\n",
              "      <td>2015-01-01 18:23:57+00:00</td>\n",
              "      <td>bike</td>\n",
              "      <td>Intersection</td>\n",
              "      <td>NaN</td>\n",
              "      <td>OLNEY ST</td>\n",
              "      <td>INWOOD ST</td>\n",
              "      <td>772710.48</td>\n",
              "      <td>2936614.62</td>\n",
              "      <td>42.305413</td>\n",
              "      <td>-71.069163</td>\n",
              "      <td>2015-01-01</td>\n",
              "      <td>18:23:57</td>\n",
              "      <td>2015</td>\n",
              "      <td>1</td>\n",
              "      <td>1</td>\n",
              "      <td>Thursday</td>\n",
              "    </tr>\n",
              "    <tr>\n",
              "      <th>4</th>\n",
              "      <td>2015-01-01 18:42:19+00:00</td>\n",
              "      <td>ped</td>\n",
              "      <td>Intersection</td>\n",
              "      <td>NaN</td>\n",
              "      <td>WASHINGTON ST</td>\n",
              "      <td>COLUMBUS AVE</td>\n",
              "      <td>764813.61</td>\n",
              "      <td>2940364.63</td>\n",
              "      <td>42.315809</td>\n",
              "      <td>-71.098290</td>\n",
              "      <td>2015-01-01</td>\n",
              "      <td>18:42:19</td>\n",
              "      <td>2015</td>\n",
              "      <td>1</td>\n",
              "      <td>1</td>\n",
              "      <td>Thursday</td>\n",
              "    </tr>\n",
              "    <tr>\n",
              "      <th>...</th>\n",
              "      <td>...</td>\n",
              "      <td>...</td>\n",
              "      <td>...</td>\n",
              "      <td>...</td>\n",
              "      <td>...</td>\n",
              "      <td>...</td>\n",
              "      <td>...</td>\n",
              "      <td>...</td>\n",
              "      <td>...</td>\n",
              "      <td>...</td>\n",
              "      <td>...</td>\n",
              "      <td>...</td>\n",
              "      <td>...</td>\n",
              "      <td>...</td>\n",
              "      <td>...</td>\n",
              "      <td>...</td>\n",
              "    </tr>\n",
              "    <tr>\n",
              "      <th>26822</th>\n",
              "      <td>2021-06-30 13:34:14+00:00</td>\n",
              "      <td>mv</td>\n",
              "      <td>Street</td>\n",
              "      <td>MORTON ST</td>\n",
              "      <td>LUCERNE ST</td>\n",
              "      <td>THEODORE ST</td>\n",
              "      <td>767216.56</td>\n",
              "      <td>2928648.01</td>\n",
              "      <td>42.283776</td>\n",
              "      <td>-71.089419</td>\n",
              "      <td>2021-06-30</td>\n",
              "      <td>13:34:14</td>\n",
              "      <td>2021</td>\n",
              "      <td>6</td>\n",
              "      <td>30</td>\n",
              "      <td>Wednesday</td>\n",
              "    </tr>\n",
              "    <tr>\n",
              "      <th>26823</th>\n",
              "      <td>2021-06-30 18:53:22+00:00</td>\n",
              "      <td>mv</td>\n",
              "      <td>Intersection</td>\n",
              "      <td>NaN</td>\n",
              "      <td>DUDLEY ST</td>\n",
              "      <td>WASHINGTON ST</td>\n",
              "      <td>768343.58</td>\n",
              "      <td>2945153.45</td>\n",
              "      <td>42.328903</td>\n",
              "      <td>-71.085153</td>\n",
              "      <td>2021-06-30</td>\n",
              "      <td>18:53:22</td>\n",
              "      <td>2021</td>\n",
              "      <td>6</td>\n",
              "      <td>30</td>\n",
              "      <td>Wednesday</td>\n",
              "    </tr>\n",
              "    <tr>\n",
              "      <th>26824</th>\n",
              "      <td>2021-06-30 21:47:21+00:00</td>\n",
              "      <td>mv</td>\n",
              "      <td>Intersection</td>\n",
              "      <td>NaN</td>\n",
              "      <td>ALBANY ST</td>\n",
              "      <td>MASSACHUSETTS AVE</td>\n",
              "      <td>771496.77</td>\n",
              "      <td>2946868.37</td>\n",
              "      <td>42.333566</td>\n",
              "      <td>-71.073460</td>\n",
              "      <td>2021-06-30</td>\n",
              "      <td>21:47:21</td>\n",
              "      <td>2021</td>\n",
              "      <td>6</td>\n",
              "      <td>30</td>\n",
              "      <td>Wednesday</td>\n",
              "    </tr>\n",
              "    <tr>\n",
              "      <th>26825</th>\n",
              "      <td>2021-06-30 22:06:03+00:00</td>\n",
              "      <td>mv</td>\n",
              "      <td>Street</td>\n",
              "      <td>HANCOCK ST</td>\n",
              "      <td>UPHAM AVE</td>\n",
              "      <td>WHEELOCK AVE</td>\n",
              "      <td>773595.37</td>\n",
              "      <td>2940209.99</td>\n",
              "      <td>42.315227</td>\n",
              "      <td>-71.066019</td>\n",
              "      <td>2021-06-30</td>\n",
              "      <td>22:06:03</td>\n",
              "      <td>2021</td>\n",
              "      <td>6</td>\n",
              "      <td>30</td>\n",
              "      <td>Wednesday</td>\n",
              "    </tr>\n",
              "    <tr>\n",
              "      <th>26826</th>\n",
              "      <td>2021-06-30 23:03:50+00:00</td>\n",
              "      <td>mv</td>\n",
              "      <td>Street</td>\n",
              "      <td>WILLIAM F MCCLELLAN HWY</td>\n",
              "      <td>BOARDMAN ST</td>\n",
              "      <td>CURTIS ST</td>\n",
              "      <td>786731.00</td>\n",
              "      <td>2966859.58</td>\n",
              "      <td>42.388188</td>\n",
              "      <td>-71.016692</td>\n",
              "      <td>2021-06-30</td>\n",
              "      <td>23:03:50</td>\n",
              "      <td>2021</td>\n",
              "      <td>6</td>\n",
              "      <td>30</td>\n",
              "      <td>Wednesday</td>\n",
              "    </tr>\n",
              "  </tbody>\n",
              "</table>\n",
              "<p>26827 rows × 16 columns</p>\n",
              "</div>"
            ],
            "text/plain": [
              "                    dispatch_ts mode_type location_type  ... month day  day_of_wk\n",
              "0     2015-01-01 00:24:27+00:00        mv  Intersection  ...     1   1   Thursday\n",
              "1     2015-01-01 03:50:33+00:00        mv        Street  ...     1   1   Thursday\n",
              "2     2015-01-01 10:14:13+00:00       ped  Intersection  ...     1   1   Thursday\n",
              "3     2015-01-01 18:23:57+00:00      bike  Intersection  ...     1   1   Thursday\n",
              "4     2015-01-01 18:42:19+00:00       ped  Intersection  ...     1   1   Thursday\n",
              "...                         ...       ...           ...  ...   ...  ..        ...\n",
              "26822 2021-06-30 13:34:14+00:00        mv        Street  ...     6  30  Wednesday\n",
              "26823 2021-06-30 18:53:22+00:00        mv  Intersection  ...     6  30  Wednesday\n",
              "26824 2021-06-30 21:47:21+00:00        mv  Intersection  ...     6  30  Wednesday\n",
              "26825 2021-06-30 22:06:03+00:00        mv        Street  ...     6  30  Wednesday\n",
              "26826 2021-06-30 23:03:50+00:00        mv        Street  ...     6  30  Wednesday\n",
              "\n",
              "[26827 rows x 16 columns]"
            ]
          },
          "metadata": {
            "tags": []
          },
          "execution_count": 13
        }
      ]
    },
    {
      "cell_type": "code",
      "metadata": {
        "id": "y3Trh1ACX3CB"
      },
      "source": [
        "# map.head()"
      ],
      "execution_count": null,
      "outputs": []
    },
    {
      "cell_type": "markdown",
      "metadata": {
        "id": "R1CIkygK4Sca"
      },
      "source": [
        "# **Basic EDA**"
      ]
    },
    {
      "cell_type": "code",
      "metadata": {
        "colab": {
          "base_uri": "https://localhost:8080/",
          "height": 375
        },
        "id": "AZdMEJ-qyhTY",
        "outputId": "c90f065c-66f5-459b-cc63-56ade063480b"
      },
      "source": [
        "import folium\n",
        "import math\n",
        "from folium import Choropleth, Circle, Marker\n",
        "from folium.plugins import HeatMap, MarkerCluster\n",
        "\n",
        "m_3 = folium.Map(location=[42.378778, -71.120306], tiles='cartodbpositron', zoom_start=13)\n",
        "\n",
        "# Add points to the map\n",
        "mc = MarkerCluster()\n",
        "for idx, row in df.iterrows():\n",
        "    if not math.isnan(row['long']) and not math.isnan(row['lat']):\n",
        "        mc.add_child(Marker([row['lat'], row['long']], popup=row['dispatch_ts']))\n",
        "m_3.add_child(mc)\n",
        "\n",
        "# Display the map\n",
        "m_3"
      ],
      "execution_count": null,
      "outputs": [
        {
          "output_type": "error",
          "ename": "AttributeError",
          "evalue": "ignored",
          "traceback": [
            "\u001b[0;31m---------------------------------------------------------------------------\u001b[0m",
            "\u001b[0;31mAttributeError\u001b[0m                            Traceback (most recent call last)",
            "\u001b[0;32m<ipython-input-22-1d0fdeedf0d8>\u001b[0m in \u001b[0;36m<module>\u001b[0;34m()\u001b[0m\n\u001b[1;32m     10\u001b[0m \u001b[0;32mfor\u001b[0m \u001b[0midx\u001b[0m\u001b[0;34m,\u001b[0m \u001b[0mrow\u001b[0m \u001b[0;32min\u001b[0m \u001b[0mdf\u001b[0m\u001b[0;34m.\u001b[0m\u001b[0miterrows\u001b[0m\u001b[0;34m(\u001b[0m\u001b[0;34m)\u001b[0m\u001b[0;34m:\u001b[0m\u001b[0;34m\u001b[0m\u001b[0;34m\u001b[0m\u001b[0m\n\u001b[1;32m     11\u001b[0m     \u001b[0;32mif\u001b[0m \u001b[0;32mnot\u001b[0m \u001b[0mmath\u001b[0m\u001b[0;34m.\u001b[0m\u001b[0misnan\u001b[0m\u001b[0;34m(\u001b[0m\u001b[0mrow\u001b[0m\u001b[0;34m[\u001b[0m\u001b[0;34m'long'\u001b[0m\u001b[0;34m]\u001b[0m\u001b[0;34m)\u001b[0m \u001b[0;32mand\u001b[0m \u001b[0;32mnot\u001b[0m \u001b[0mmath\u001b[0m\u001b[0;34m.\u001b[0m\u001b[0misnan\u001b[0m\u001b[0;34m(\u001b[0m\u001b[0mrow\u001b[0m\u001b[0;34m[\u001b[0m\u001b[0;34m'lat'\u001b[0m\u001b[0;34m]\u001b[0m\u001b[0;34m)\u001b[0m\u001b[0;34m:\u001b[0m\u001b[0;34m\u001b[0m\u001b[0;34m\u001b[0m\u001b[0m\n\u001b[0;32m---> 12\u001b[0;31m         \u001b[0mmc\u001b[0m\u001b[0;34m.\u001b[0m\u001b[0madd_child\u001b[0m\u001b[0;34m(\u001b[0m\u001b[0mMarker\u001b[0m\u001b[0;34m(\u001b[0m\u001b[0;34m[\u001b[0m\u001b[0mrow\u001b[0m\u001b[0;34m[\u001b[0m\u001b[0;34m'lat'\u001b[0m\u001b[0;34m]\u001b[0m\u001b[0;34m,\u001b[0m \u001b[0mrow\u001b[0m\u001b[0;34m[\u001b[0m\u001b[0;34m'long'\u001b[0m\u001b[0;34m]\u001b[0m\u001b[0;34m]\u001b[0m\u001b[0;34m,\u001b[0m \u001b[0mpopup\u001b[0m\u001b[0;34m=\u001b[0m\u001b[0mrow\u001b[0m\u001b[0;34m[\u001b[0m\u001b[0;34m'dispatch_ts'\u001b[0m\u001b[0;34m]\u001b[0m\u001b[0;34m)\u001b[0m\u001b[0;34m)\u001b[0m\u001b[0;34m\u001b[0m\u001b[0;34m\u001b[0m\u001b[0m\n\u001b[0m\u001b[1;32m     13\u001b[0m \u001b[0mm_3\u001b[0m\u001b[0;34m.\u001b[0m\u001b[0madd_child\u001b[0m\u001b[0;34m(\u001b[0m\u001b[0mmc\u001b[0m\u001b[0;34m)\u001b[0m\u001b[0;34m\u001b[0m\u001b[0;34m\u001b[0m\u001b[0m\n\u001b[1;32m     14\u001b[0m \u001b[0;34m\u001b[0m\u001b[0m\n",
            "\u001b[0;32m/usr/local/lib/python3.7/dist-packages/folium/map.py\u001b[0m in \u001b[0;36m__init__\u001b[0;34m(self, location, popup, tooltip, icon, draggable)\u001b[0m\n\u001b[1;32m    263\u001b[0m             \u001b[0mself\u001b[0m\u001b[0;34m.\u001b[0m\u001b[0madd_child\u001b[0m\u001b[0;34m(\u001b[0m\u001b[0mPopup\u001b[0m\u001b[0;34m(\u001b[0m\u001b[0mpopup\u001b[0m\u001b[0;34m)\u001b[0m\u001b[0;34m)\u001b[0m\u001b[0;34m\u001b[0m\u001b[0;34m\u001b[0m\u001b[0m\n\u001b[1;32m    264\u001b[0m         \u001b[0;32melif\u001b[0m \u001b[0mpopup\u001b[0m \u001b[0;32mis\u001b[0m \u001b[0;32mnot\u001b[0m \u001b[0;32mNone\u001b[0m\u001b[0;34m:\u001b[0m\u001b[0;34m\u001b[0m\u001b[0;34m\u001b[0m\u001b[0m\n\u001b[0;32m--> 265\u001b[0;31m             \u001b[0mself\u001b[0m\u001b[0;34m.\u001b[0m\u001b[0madd_child\u001b[0m\u001b[0;34m(\u001b[0m\u001b[0mpopup\u001b[0m\u001b[0;34m)\u001b[0m\u001b[0;34m\u001b[0m\u001b[0;34m\u001b[0m\u001b[0m\n\u001b[0m\u001b[1;32m    266\u001b[0m         \u001b[0;32mif\u001b[0m \u001b[0misinstance\u001b[0m\u001b[0;34m(\u001b[0m\u001b[0mtooltip\u001b[0m\u001b[0;34m,\u001b[0m \u001b[0mTooltip\u001b[0m\u001b[0;34m)\u001b[0m\u001b[0;34m:\u001b[0m\u001b[0;34m\u001b[0m\u001b[0;34m\u001b[0m\u001b[0m\n\u001b[1;32m    267\u001b[0m             \u001b[0mself\u001b[0m\u001b[0;34m.\u001b[0m\u001b[0madd_child\u001b[0m\u001b[0;34m(\u001b[0m\u001b[0mtooltip\u001b[0m\u001b[0;34m)\u001b[0m\u001b[0;34m\u001b[0m\u001b[0;34m\u001b[0m\u001b[0m\n",
            "\u001b[0;32m/usr/local/lib/python3.7/dist-packages/branca/element.py\u001b[0m in \u001b[0;36madd_child\u001b[0;34m(self, child, name, index)\u001b[0m\n\u001b[1;32m    104\u001b[0m         \u001b[0;34m\"\"\"Add a child.\"\"\"\u001b[0m\u001b[0;34m\u001b[0m\u001b[0;34m\u001b[0m\u001b[0m\n\u001b[1;32m    105\u001b[0m         \u001b[0;32mif\u001b[0m \u001b[0mname\u001b[0m \u001b[0;32mis\u001b[0m \u001b[0;32mNone\u001b[0m\u001b[0;34m:\u001b[0m\u001b[0;34m\u001b[0m\u001b[0;34m\u001b[0m\u001b[0m\n\u001b[0;32m--> 106\u001b[0;31m             \u001b[0mname\u001b[0m \u001b[0;34m=\u001b[0m \u001b[0mchild\u001b[0m\u001b[0;34m.\u001b[0m\u001b[0mget_name\u001b[0m\u001b[0;34m(\u001b[0m\u001b[0;34m)\u001b[0m\u001b[0;34m\u001b[0m\u001b[0;34m\u001b[0m\u001b[0m\n\u001b[0m\u001b[1;32m    107\u001b[0m         \u001b[0;32mif\u001b[0m \u001b[0mindex\u001b[0m \u001b[0;32mis\u001b[0m \u001b[0;32mNone\u001b[0m\u001b[0;34m:\u001b[0m\u001b[0;34m\u001b[0m\u001b[0;34m\u001b[0m\u001b[0m\n\u001b[1;32m    108\u001b[0m             \u001b[0mself\u001b[0m\u001b[0;34m.\u001b[0m\u001b[0m_children\u001b[0m\u001b[0;34m[\u001b[0m\u001b[0mname\u001b[0m\u001b[0;34m]\u001b[0m \u001b[0;34m=\u001b[0m \u001b[0mchild\u001b[0m\u001b[0;34m\u001b[0m\u001b[0;34m\u001b[0m\u001b[0m\n",
            "\u001b[0;31mAttributeError\u001b[0m: 'Timestamp' object has no attribute 'get_name'"
          ]
        }
      ]
    },
    {
      "cell_type": "code",
      "metadata": {
        "colab": {
          "base_uri": "https://localhost:8080/",
          "height": 297
        },
        "id": "uXEmeSdi5wpn",
        "outputId": "c4dbdf17-8f99-45b0-d823-44ee3318ad0b"
      },
      "source": [
        "sns.countplot(x=\"mode_type\", data=df)\n"
      ],
      "execution_count": null,
      "outputs": [
        {
          "output_type": "execute_result",
          "data": {
            "text/plain": [
              "<matplotlib.axes._subplots.AxesSubplot at 0x7ff359199250>"
            ]
          },
          "metadata": {
            "tags": []
          },
          "execution_count": 15
        },
        {
          "output_type": "display_data",
          "data": {
            "image/png": "[encoded data removed]",
            "text/plain": [
              "<Figure size 432x288 with 1 Axes>"
            ]
          },
          "metadata": {
            "tags": [],
            "needs_background": "light"
          }
        }
      ]
    },
    {
      "cell_type": "code",
      "metadata": {
        "colab": {
          "base_uri": "https://localhost:8080/",
          "height": 297
        },
        "id": "9QedZFdX4hBJ",
        "outputId": "2cb44638-b9c2-4cb7-8edf-67d3fc463f69"
      },
      "source": [
        "sns.countplot(x=\"location_type\", data=df)\n"
      ],
      "execution_count": null,
      "outputs": [
        {
          "output_type": "execute_result",
          "data": {
            "text/plain": [
              "<matplotlib.axes._subplots.AxesSubplot at 0x7ff34f7609d0>"
            ]
          },
          "metadata": {
            "tags": []
          },
          "execution_count": 16
        },
        {
          "output_type": "display_data",
          "data": {
            "image/png": "[encoded data removed]",
            "text/plain": [
              "<Figure size 432x288 with 1 Axes>"
            ]
          },
          "metadata": {
            "tags": [],
            "needs_background": "light"
          }
        }
      ]
    },
    {
      "cell_type": "code",
      "metadata": {
        "colab": {
          "base_uri": "https://localhost:8080/",
          "height": 296
        },
        "id": "yk-xtQny-3EB",
        "outputId": "14c53f32-1b97-4abe-a59d-a1abf73480c7"
      },
      "source": [
        "sns.countplot(x=\"year\", data=df)\n"
      ],
      "execution_count": null,
      "outputs": [
        {
          "output_type": "execute_result",
          "data": {
            "text/plain": [
              "<matplotlib.axes._subplots.AxesSubplot at 0x7ff34f746c10>"
            ]
          },
          "metadata": {
            "tags": []
          },
          "execution_count": 17
        },
        {
          "output_type": "display_data",
          "data": {
            "image/png": "[encoded data removed]",
            "text/plain": [
              "<Figure size 432x288 with 1 Axes>"
            ]
          },
          "metadata": {
            "tags": [],
            "needs_background": "light"
          }
        }
      ]
    },
    {
      "cell_type": "code",
      "metadata": {
        "colab": {
          "base_uri": "https://localhost:8080/",
          "height": 296
        },
        "id": "orDTeRQM_GlT",
        "outputId": "3ea08a02-4801-471e-c2aa-ca74d475e61c"
      },
      "source": [
        "sns.countplot(x=\"month\", data=df)\n"
      ],
      "execution_count": null,
      "outputs": [
        {
          "output_type": "execute_result",
          "data": {
            "text/plain": [
              "<matplotlib.axes._subplots.AxesSubplot at 0x7ff34f6be790>"
            ]
          },
          "metadata": {
            "tags": []
          },
          "execution_count": 18
        },
        {
          "output_type": "display_data",
          "data": {
            "image/png": "[encoded data removed]",
            "text/plain": [
              "<Figure size 432x288 with 1 Axes>"
            ]
          },
          "metadata": {
            "tags": [],
            "needs_background": "light"
          }
        }
      ]
    },
    {
      "cell_type": "code",
      "metadata": {
        "colab": {
          "base_uri": "https://localhost:8080/",
          "height": 297
        },
        "id": "Uap_Ml9O_MTa",
        "outputId": "b964a578-9f66-4957-949f-b974550c089c"
      },
      "source": [
        "sns.countplot(x=\"day_of_wk\", data=df)\n"
      ],
      "execution_count": null,
      "outputs": [
        {
          "output_type": "execute_result",
          "data": {
            "text/plain": [
              "<matplotlib.axes._subplots.AxesSubplot at 0x7ff34f677e10>"
            ]
          },
          "metadata": {
            "tags": []
          },
          "execution_count": 19
        },
        {
          "output_type": "display_data",
          "data": {
            "image/png": "[encoded data removed]",
            "text/plain": [
              "<Figure size 432x288 with 1 Axes>"
            ]
          },
          "metadata": {
            "tags": [],
            "needs_background": "light"
          }
        }
      ]
    },
    {
      "cell_type": "code",
      "metadata": {
        "colab": {
          "base_uri": "https://localhost:8080/",
          "height": 198
        },
        "id": "Jn_bb11Gt-2N",
        "outputId": "f33f14b8-806d-4089-a373-29d792f8cf37"
      },
      "source": [
        "countdf = df.groupby(by=\"dates\").size().reset_index()\n",
        "countdf = countdf.rename(columns={0: \"count\"})\n",
        "ax.plot(countdf[\"dates\"], countdf[\"count\"])"
      ],
      "execution_count": null,
      "outputs": [
        {
          "output_type": "error",
          "ename": "NameError",
          "evalue": "ignored",
          "traceback": [
            "\u001b[0;31m---------------------------------------------------------------------------\u001b[0m",
            "\u001b[0;31mNameError\u001b[0m                                 Traceback (most recent call last)",
            "\u001b[0;32m<ipython-input-20-822ef5ce3834>\u001b[0m in \u001b[0;36m<module>\u001b[0;34m()\u001b[0m\n\u001b[1;32m      1\u001b[0m \u001b[0mcountdf\u001b[0m \u001b[0;34m=\u001b[0m \u001b[0mdf\u001b[0m\u001b[0;34m.\u001b[0m\u001b[0mgroupby\u001b[0m\u001b[0;34m(\u001b[0m\u001b[0mby\u001b[0m\u001b[0;34m=\u001b[0m\u001b[0;34m\"dates\"\u001b[0m\u001b[0;34m)\u001b[0m\u001b[0;34m.\u001b[0m\u001b[0msize\u001b[0m\u001b[0;34m(\u001b[0m\u001b[0;34m)\u001b[0m\u001b[0;34m.\u001b[0m\u001b[0mreset_index\u001b[0m\u001b[0;34m(\u001b[0m\u001b[0;34m)\u001b[0m\u001b[0;34m\u001b[0m\u001b[0;34m\u001b[0m\u001b[0m\n\u001b[1;32m      2\u001b[0m \u001b[0mcountdf\u001b[0m \u001b[0;34m=\u001b[0m \u001b[0mcountdf\u001b[0m\u001b[0;34m.\u001b[0m\u001b[0mrename\u001b[0m\u001b[0;34m(\u001b[0m\u001b[0mcolumns\u001b[0m\u001b[0;34m=\u001b[0m\u001b[0;34m{\u001b[0m\u001b[0;36m0\u001b[0m\u001b[0;34m:\u001b[0m \u001b[0;34m\"count\"\u001b[0m\u001b[0;34m}\u001b[0m\u001b[0;34m)\u001b[0m\u001b[0;34m\u001b[0m\u001b[0;34m\u001b[0m\u001b[0m\n\u001b[0;32m----> 3\u001b[0;31m \u001b[0max\u001b[0m\u001b[0;34m.\u001b[0m\u001b[0mplot\u001b[0m\u001b[0;34m(\u001b[0m\u001b[0mcountdf\u001b[0m\u001b[0;34m[\u001b[0m\u001b[0;34m\"dates\"\u001b[0m\u001b[0;34m]\u001b[0m\u001b[0;34m,\u001b[0m \u001b[0mcountdf\u001b[0m\u001b[0;34m[\u001b[0m\u001b[0;34m\"count\"\u001b[0m\u001b[0;34m]\u001b[0m\u001b[0;34m)\u001b[0m\u001b[0;34m\u001b[0m\u001b[0;34m\u001b[0m\u001b[0m\n\u001b[0m",
            "\u001b[0;31mNameError\u001b[0m: name 'ax' is not defined"
          ]
        }
      ]
    },
    {
      "cell_type": "code",
      "metadata": {
        "id": "YuzVCHSdwJwY",
        "colab": {
          "base_uri": "https://localhost:8080/",
          "height": 204
        },
        "outputId": "4ce51a0a-4ed2-4a97-f96f-5de99a6ce453"
      },
      "source": [
        "df[\"Geometry\"] = df.apply(lambda x: Point((x.long, x.lat)), axis=1)\n",
        "df.head()\n",
        "\n",
        "important = df[[\"dispatch_ts\", \"lat\", \"long\", \"Geometry\"]]\n",
        "important.head()"
      ],
      "execution_count": null,
      "outputs": [
        {
          "output_type": "execute_result",
          "data": {
            "text/html": [
              "<div>\n",
              "<style scoped>\n",
              "    .dataframe tbody tr th:only-of-type {\n",
              "        vertical-align: middle;\n",
              "    }\n",
              "\n",
              "    .dataframe tbody tr th {\n",
              "        vertical-align: top;\n",
              "    }\n",
              "\n",
              "    .dataframe thead th {\n",
              "        text-align: right;\n",
              "    }\n",
              "</style>\n",
              "<table border=\"1\" class=\"dataframe\">\n",
              "  <thead>\n",
              "    <tr style=\"text-align: right;\">\n",
              "      <th></th>\n",
              "      <th>dispatch_ts</th>\n",
              "      <th>lat</th>\n",
              "      <th>long</th>\n",
              "      <th>Geometry</th>\n",
              "    </tr>\n",
              "  </thead>\n",
              "  <tbody>\n",
              "    <tr>\n",
              "      <th>0</th>\n",
              "      <td>2015-01-01 00:24:27+00</td>\n",
              "      <td>42.289750</td>\n",
              "      <td>-71.052515</td>\n",
              "      <td>POINT (-71.05251532632529 42.2897498978002)</td>\n",
              "    </tr>\n",
              "    <tr>\n",
              "      <th>1</th>\n",
              "      <td>2015-01-01 03:50:33+00</td>\n",
              "      <td>42.257079</td>\n",
              "      <td>-71.120105</td>\n",
              "      <td>POINT (-71.12010537972741 42.25707875169221)</td>\n",
              "    </tr>\n",
              "    <tr>\n",
              "      <th>2</th>\n",
              "      <td>2015-01-01 10:14:13+00</td>\n",
              "      <td>42.373337</td>\n",
              "      <td>-71.039040</td>\n",
              "      <td>POINT (-71.0390395875703 42.3733372700896)</td>\n",
              "    </tr>\n",
              "    <tr>\n",
              "      <th>3</th>\n",
              "      <td>2015-01-01 18:23:57+00</td>\n",
              "      <td>42.305413</td>\n",
              "      <td>-71.069163</td>\n",
              "      <td>POINT (-71.06916302705758 42.30541254615279)</td>\n",
              "    </tr>\n",
              "    <tr>\n",
              "      <th>4</th>\n",
              "      <td>2015-01-01 18:42:19+00</td>\n",
              "      <td>42.315809</td>\n",
              "      <td>-71.098290</td>\n",
              "      <td>POINT (-71.09829029158308 42.3158085168013)</td>\n",
              "    </tr>\n",
              "  </tbody>\n",
              "</table>\n",
              "</div>"
            ],
            "text/plain": [
              "              dispatch_ts  ...                                      Geometry\n",
              "0  2015-01-01 00:24:27+00  ...   POINT (-71.05251532632529 42.2897498978002)\n",
              "1  2015-01-01 03:50:33+00  ...  POINT (-71.12010537972741 42.25707875169221)\n",
              "2  2015-01-01 10:14:13+00  ...    POINT (-71.0390395875703 42.3733372700896)\n",
              "3  2015-01-01 18:23:57+00  ...  POINT (-71.06916302705758 42.30541254615279)\n",
              "4  2015-01-01 18:42:19+00  ...   POINT (-71.09829029158308 42.3158085168013)\n",
              "\n",
              "[5 rows x 4 columns]"
            ]
          },
          "metadata": {
            "tags": []
          },
          "execution_count": 37
        }
      ]
    },
    {
      "cell_type": "code",
      "metadata": {
        "id": "13Bt0VWLxBGa",
        "colab": {
          "base_uri": "https://localhost:8080/",
          "height": 258
        },
        "outputId": "6947275a-a7e4-4905-d701-42187bff586f"
      },
      "source": [
        "important_crs = {'init': 'epsg:4326'}\n",
        "important_geo = gpd.GeoDataFrame(important, crs = important_crs, geometry = important.Geometry)\n",
        "del important_geo[\"Geometry\"]\n",
        "important_geo.head()"
      ],
      "execution_count": null,
      "outputs": [
        {
          "output_type": "stream",
          "text": [
            "/usr/local/lib/python3.7/dist-packages/pyproj/crs/crs.py:68: FutureWarning: '+init=<authority>:<code>' syntax is deprecated. '<authority>:<code>' is the preferred initialization method. When making the change, be mindful of axis order changes: https://pyproj4.github.io/pyproj/stable/gotchas.html#axis-order-changes-in-proj-6\n",
            "  return _prepare_from_string(\" \".join(pjargs))\n"
          ],
          "name": "stderr"
        },
        {
          "output_type": "execute_result",
          "data": {
            "text/html": [
              "<div>\n",
              "<style scoped>\n",
              "    .dataframe tbody tr th:only-of-type {\n",
              "        vertical-align: middle;\n",
              "    }\n",
              "\n",
              "    .dataframe tbody tr th {\n",
              "        vertical-align: top;\n",
              "    }\n",
              "\n",
              "    .dataframe thead th {\n",
              "        text-align: right;\n",
              "    }\n",
              "</style>\n",
              "<table border=\"1\" class=\"dataframe\">\n",
              "  <thead>\n",
              "    <tr style=\"text-align: right;\">\n",
              "      <th></th>\n",
              "      <th>dispatch_ts</th>\n",
              "      <th>lat</th>\n",
              "      <th>long</th>\n",
              "      <th>geometry</th>\n",
              "    </tr>\n",
              "  </thead>\n",
              "  <tbody>\n",
              "    <tr>\n",
              "      <th>0</th>\n",
              "      <td>2015-01-01 00:24:27+00</td>\n",
              "      <td>42.289750</td>\n",
              "      <td>-71.052515</td>\n",
              "      <td>POINT (-71.05252 42.28975)</td>\n",
              "    </tr>\n",
              "    <tr>\n",
              "      <th>1</th>\n",
              "      <td>2015-01-01 03:50:33+00</td>\n",
              "      <td>42.257079</td>\n",
              "      <td>-71.120105</td>\n",
              "      <td>POINT (-71.12011 42.25708)</td>\n",
              "    </tr>\n",
              "    <tr>\n",
              "      <th>2</th>\n",
              "      <td>2015-01-01 10:14:13+00</td>\n",
              "      <td>42.373337</td>\n",
              "      <td>-71.039040</td>\n",
              "      <td>POINT (-71.03904 42.37334)</td>\n",
              "    </tr>\n",
              "    <tr>\n",
              "      <th>3</th>\n",
              "      <td>2015-01-01 18:23:57+00</td>\n",
              "      <td>42.305413</td>\n",
              "      <td>-71.069163</td>\n",
              "      <td>POINT (-71.06916 42.30541)</td>\n",
              "    </tr>\n",
              "    <tr>\n",
              "      <th>4</th>\n",
              "      <td>2015-01-01 18:42:19+00</td>\n",
              "      <td>42.315809</td>\n",
              "      <td>-71.098290</td>\n",
              "      <td>POINT (-71.09829 42.31581)</td>\n",
              "    </tr>\n",
              "  </tbody>\n",
              "</table>\n",
              "</div>"
            ],
            "text/plain": [
              "              dispatch_ts        lat       long                    geometry\n",
              "0  2015-01-01 00:24:27+00  42.289750 -71.052515  POINT (-71.05252 42.28975)\n",
              "1  2015-01-01 03:50:33+00  42.257079 -71.120105  POINT (-71.12011 42.25708)\n",
              "2  2015-01-01 10:14:13+00  42.373337 -71.039040  POINT (-71.03904 42.37334)\n",
              "3  2015-01-01 18:23:57+00  42.305413 -71.069163  POINT (-71.06916 42.30541)\n",
              "4  2015-01-01 18:42:19+00  42.315809 -71.098290  POINT (-71.09829 42.31581)"
            ]
          },
          "metadata": {
            "tags": []
          },
          "execution_count": 38
        }
      ]
    },
    {
      "cell_type": "code",
      "metadata": {
        "colab": {
          "base_uri": "https://localhost:8080/",
          "height": 545
        },
        "id": "sD1jZmMtzUX_",
        "outputId": "e7b5a402-f17c-4c32-8aff-9dd21378cb10"
      },
      "source": [
        "boston = gpd.read_file(\"/content/drive/hdag/Boston_Neighborhoods.geojson\")"
      ],
      "execution_count": null,
      "outputs": [
        {
          "output_type": "error",
          "ename": "DriverError",
          "evalue": "ignored",
          "traceback": [
            "\u001b[0;31m---------------------------------------------------------------------------\u001b[0m",
            "\u001b[0;31mCPLE_OpenFailedError\u001b[0m                      Traceback (most recent call last)",
            "\u001b[0;32mfiona/_shim.pyx\u001b[0m in \u001b[0;36mfiona._shim.gdal_open_vector\u001b[0;34m()\u001b[0m\n",
            "\u001b[0;32mfiona/_err.pyx\u001b[0m in \u001b[0;36mfiona._err.exc_wrap_pointer\u001b[0;34m()\u001b[0m\n",
            "\u001b[0;31mCPLE_OpenFailedError\u001b[0m: /content/drive/hdag/Boston_Neighborhoods.geojson: No such file or directory",
            "\nDuring handling of the above exception, another exception occurred:\n",
            "\u001b[0;31mDriverError\u001b[0m                               Traceback (most recent call last)",
            "\u001b[0;32m<ipython-input-43-8b0486123ad4>\u001b[0m in \u001b[0;36m<module>\u001b[0;34m()\u001b[0m\n\u001b[0;32m----> 1\u001b[0;31m \u001b[0mboston\u001b[0m \u001b[0;34m=\u001b[0m \u001b[0mgpd\u001b[0m\u001b[0;34m.\u001b[0m\u001b[0mread_file\u001b[0m\u001b[0;34m(\u001b[0m\u001b[0;34m\"/content/drive/hdag/Boston_Neighborhoods.geojson\"\u001b[0m\u001b[0;34m)\u001b[0m\u001b[0;34m\u001b[0m\u001b[0;34m\u001b[0m\u001b[0m\n\u001b[0m",
            "\u001b[0;32m/usr/local/lib/python3.7/dist-packages/geopandas/io/file.py\u001b[0m in \u001b[0;36m_read_file\u001b[0;34m(filename, bbox, mask, rows, **kwargs)\u001b[0m\n\u001b[1;32m    158\u001b[0m \u001b[0;34m\u001b[0m\u001b[0m\n\u001b[1;32m    159\u001b[0m     \u001b[0;32mwith\u001b[0m \u001b[0mfiona_env\u001b[0m\u001b[0;34m(\u001b[0m\u001b[0;34m)\u001b[0m\u001b[0;34m:\u001b[0m\u001b[0;34m\u001b[0m\u001b[0;34m\u001b[0m\u001b[0m\n\u001b[0;32m--> 160\u001b[0;31m         \u001b[0;32mwith\u001b[0m \u001b[0mreader\u001b[0m\u001b[0;34m(\u001b[0m\u001b[0mpath_or_bytes\u001b[0m\u001b[0;34m,\u001b[0m \u001b[0;34m**\u001b[0m\u001b[0mkwargs\u001b[0m\u001b[0;34m)\u001b[0m \u001b[0;32mas\u001b[0m \u001b[0mfeatures\u001b[0m\u001b[0;34m:\u001b[0m\u001b[0;34m\u001b[0m\u001b[0;34m\u001b[0m\u001b[0m\n\u001b[0m\u001b[1;32m    161\u001b[0m \u001b[0;34m\u001b[0m\u001b[0m\n\u001b[1;32m    162\u001b[0m             \u001b[0;31m# In a future Fiona release the crs attribute of features will\u001b[0m\u001b[0;34m\u001b[0m\u001b[0;34m\u001b[0m\u001b[0;34m\u001b[0m\u001b[0m\n",
            "\u001b[0;32m/usr/local/lib/python3.7/dist-packages/fiona/env.py\u001b[0m in \u001b[0;36mwrapper\u001b[0;34m(*args, **kwargs)\u001b[0m\n\u001b[1;32m    406\u001b[0m     \u001b[0;32mdef\u001b[0m \u001b[0mwrapper\u001b[0m\u001b[0;34m(\u001b[0m\u001b[0;34m*\u001b[0m\u001b[0margs\u001b[0m\u001b[0;34m,\u001b[0m \u001b[0;34m**\u001b[0m\u001b[0mkwargs\u001b[0m\u001b[0;34m)\u001b[0m\u001b[0;34m:\u001b[0m\u001b[0;34m\u001b[0m\u001b[0;34m\u001b[0m\u001b[0m\n\u001b[1;32m    407\u001b[0m         \u001b[0;32mif\u001b[0m \u001b[0mlocal\u001b[0m\u001b[0;34m.\u001b[0m\u001b[0m_env\u001b[0m\u001b[0;34m:\u001b[0m\u001b[0;34m\u001b[0m\u001b[0;34m\u001b[0m\u001b[0m\n\u001b[0;32m--> 408\u001b[0;31m             \u001b[0;32mreturn\u001b[0m \u001b[0mf\u001b[0m\u001b[0;34m(\u001b[0m\u001b[0;34m*\u001b[0m\u001b[0margs\u001b[0m\u001b[0;34m,\u001b[0m \u001b[0;34m**\u001b[0m\u001b[0mkwargs\u001b[0m\u001b[0;34m)\u001b[0m\u001b[0;34m\u001b[0m\u001b[0;34m\u001b[0m\u001b[0m\n\u001b[0m\u001b[1;32m    409\u001b[0m         \u001b[0;32melse\u001b[0m\u001b[0;34m:\u001b[0m\u001b[0;34m\u001b[0m\u001b[0;34m\u001b[0m\u001b[0m\n\u001b[1;32m    410\u001b[0m             \u001b[0;32mif\u001b[0m \u001b[0misinstance\u001b[0m\u001b[0;34m(\u001b[0m\u001b[0margs\u001b[0m\u001b[0;34m[\u001b[0m\u001b[0;36m0\u001b[0m\u001b[0;34m]\u001b[0m\u001b[0;34m,\u001b[0m \u001b[0mstr\u001b[0m\u001b[0;34m)\u001b[0m\u001b[0;34m:\u001b[0m\u001b[0;34m\u001b[0m\u001b[0;34m\u001b[0m\u001b[0m\n",
            "\u001b[0;32m/usr/local/lib/python3.7/dist-packages/fiona/__init__.py\u001b[0m in \u001b[0;36mopen\u001b[0;34m(fp, mode, driver, schema, crs, encoding, layer, vfs, enabled_drivers, crs_wkt, **kwargs)\u001b[0m\n\u001b[1;32m    255\u001b[0m         \u001b[0;32mif\u001b[0m \u001b[0mmode\u001b[0m \u001b[0;32min\u001b[0m \u001b[0;34m(\u001b[0m\u001b[0;34m'a'\u001b[0m\u001b[0;34m,\u001b[0m \u001b[0;34m'r'\u001b[0m\u001b[0;34m)\u001b[0m\u001b[0;34m:\u001b[0m\u001b[0;34m\u001b[0m\u001b[0;34m\u001b[0m\u001b[0m\n\u001b[1;32m    256\u001b[0m             c = Collection(path, mode, driver=driver, encoding=encoding,\n\u001b[0;32m--> 257\u001b[0;31m                            layer=layer, enabled_drivers=enabled_drivers, **kwargs)\n\u001b[0m\u001b[1;32m    258\u001b[0m         \u001b[0;32melif\u001b[0m \u001b[0mmode\u001b[0m \u001b[0;34m==\u001b[0m \u001b[0;34m'w'\u001b[0m\u001b[0;34m:\u001b[0m\u001b[0;34m\u001b[0m\u001b[0;34m\u001b[0m\u001b[0m\n\u001b[1;32m    259\u001b[0m             \u001b[0;32mif\u001b[0m \u001b[0mschema\u001b[0m\u001b[0;34m:\u001b[0m\u001b[0;34m\u001b[0m\u001b[0;34m\u001b[0m\u001b[0m\n",
            "\u001b[0;32m/usr/local/lib/python3.7/dist-packages/fiona/collection.py\u001b[0m in \u001b[0;36m__init__\u001b[0;34m(self, path, mode, driver, schema, crs, encoding, layer, vsi, archive, enabled_drivers, crs_wkt, ignore_fields, ignore_geometry, **kwargs)\u001b[0m\n\u001b[1;32m    160\u001b[0m             \u001b[0;32mif\u001b[0m \u001b[0mself\u001b[0m\u001b[0;34m.\u001b[0m\u001b[0mmode\u001b[0m \u001b[0;34m==\u001b[0m \u001b[0;34m'r'\u001b[0m\u001b[0;34m:\u001b[0m\u001b[0;34m\u001b[0m\u001b[0;34m\u001b[0m\u001b[0m\n\u001b[1;32m    161\u001b[0m                 \u001b[0mself\u001b[0m\u001b[0;34m.\u001b[0m\u001b[0msession\u001b[0m \u001b[0;34m=\u001b[0m \u001b[0mSession\u001b[0m\u001b[0;34m(\u001b[0m\u001b[0;34m)\u001b[0m\u001b[0;34m\u001b[0m\u001b[0;34m\u001b[0m\u001b[0m\n\u001b[0;32m--> 162\u001b[0;31m                 \u001b[0mself\u001b[0m\u001b[0;34m.\u001b[0m\u001b[0msession\u001b[0m\u001b[0;34m.\u001b[0m\u001b[0mstart\u001b[0m\u001b[0;34m(\u001b[0m\u001b[0mself\u001b[0m\u001b[0;34m,\u001b[0m \u001b[0;34m**\u001b[0m\u001b[0mkwargs\u001b[0m\u001b[0;34m)\u001b[0m\u001b[0;34m\u001b[0m\u001b[0;34m\u001b[0m\u001b[0m\n\u001b[0m\u001b[1;32m    163\u001b[0m             \u001b[0;32melif\u001b[0m \u001b[0mself\u001b[0m\u001b[0;34m.\u001b[0m\u001b[0mmode\u001b[0m \u001b[0;32min\u001b[0m \u001b[0;34m(\u001b[0m\u001b[0;34m'a'\u001b[0m\u001b[0;34m,\u001b[0m \u001b[0;34m'w'\u001b[0m\u001b[0;34m)\u001b[0m\u001b[0;34m:\u001b[0m\u001b[0;34m\u001b[0m\u001b[0;34m\u001b[0m\u001b[0m\n\u001b[1;32m    164\u001b[0m                 \u001b[0mself\u001b[0m\u001b[0;34m.\u001b[0m\u001b[0msession\u001b[0m \u001b[0;34m=\u001b[0m \u001b[0mWritingSession\u001b[0m\u001b[0;34m(\u001b[0m\u001b[0;34m)\u001b[0m\u001b[0;34m\u001b[0m\u001b[0;34m\u001b[0m\u001b[0m\n",
            "\u001b[0;32mfiona/ogrext.pyx\u001b[0m in \u001b[0;36mfiona.ogrext.Session.start\u001b[0;34m()\u001b[0m\n",
            "\u001b[0;32mfiona/_shim.pyx\u001b[0m in \u001b[0;36mfiona._shim.gdal_open_vector\u001b[0;34m()\u001b[0m\n",
            "\u001b[0;31mDriverError\u001b[0m: /content/drive/hdag/Boston_Neighborhoods.geojson: No such file or directory"
          ]
        }
      ]
    }
  ]
}